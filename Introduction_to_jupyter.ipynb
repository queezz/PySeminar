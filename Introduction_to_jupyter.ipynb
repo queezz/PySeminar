{
 "cells": [
  {
   "cell_type": "markdown",
   "metadata": {},
   "source": [
    "# Introduction to Jupyter Lab.\n",
    "\n",
    "Markdown cells are helpfull. Write your explanations, use formulas: $\\alpha-\\beta = 2^{x}$.\n",
    "\n",
    "Jupyter Lab has extensions, install [@jupyterlab/toc](https://github.com/jupyterlab/jupyterlab-toc) - table of contents, for simple navigation in your notebooks."
   ]
  },
  {
   "cell_type": "markdown",
   "metadata": {},
   "source": [
    "## Use \"Python Magic\"\n",
    "Python magic - commands starting with \"%\"\n",
    "`%pylab inline` allows you to use matplotlib and numpy functions - very useful for working with data and plotting."
   ]
  },
  {
   "cell_type": "code",
   "execution_count": 1,
   "metadata": {
    "tags": []
   },
   "outputs": [
    {
     "name": "stdout",
     "output_type": "stream",
     "text": [
      "Populating the interactive namespace from numpy and matplotlib\n"
     ]
    }
   ],
   "source": [
    "%pylab inline"
   ]
  },
  {
   "cell_type": "code",
   "execution_count": 2,
   "metadata": {},
   "outputs": [],
   "source": [
    "# Module for operational systme functions, such as listdir, etc\n",
    "import os"
   ]
  },
  {
   "cell_type": "code",
   "execution_count": 3,
   "metadata": {},
   "outputs": [
    {
     "data": {
      "text/plain": [
       "['.git',\n",
       " '.gitignore',\n",
       " '.ipynb_checkpoints',\n",
       " 'data.csv',\n",
       " 'figures',\n",
       " 'Introduction_to_jupyter.ipynb',\n",
       " 'mylistofpaths.csv',\n",
       " 'out',\n",
       " 'Readme.md',\n",
       " 'test.py']"
      ]
     },
     "execution_count": 3,
     "metadata": {},
     "output_type": "execute_result"
    }
   ],
   "source": [
    "os.listdir()"
   ]
  },
  {
   "cell_type": "markdown",
   "metadata": {},
   "source": [
    "# Read file drectly"
   ]
  },
  {
   "cell_type": "code",
   "execution_count": 4,
   "metadata": {},
   "outputs": [
    {
     "name": "stdout",
     "output_type": "stream",
     "text": [
      "i=0, l = \"1, 2\"\n",
      "['1', ' 2']\n",
      "i=1, l = \"2, 3\"\n",
      "['2', ' 3']\n",
      "i=2, l = \"4, 5\"\n",
      "['4', ' 5']\n"
     ]
    }
   ],
   "source": [
    "with open('data.csv', 'r') as f:\n",
    "    for i in range(3):\n",
    "        l = f.readline()\n",
    "        print(f'i={i}, l = \"{l.strip()}\"')\n",
    "        l = l.strip() # removes return carrige, or whitespaces from a string\n",
    "        # you can work with each line, for instance split by commas\n",
    "        print(l.split(','))"
   ]
  },
  {
   "cell_type": "markdown",
   "metadata": {},
   "source": [
    "# Read text data with `numpy` or `padas`"
   ]
  },
  {
   "cell_type": "code",
   "execution_count": 5,
   "metadata": {},
   "outputs": [],
   "source": [
    "import numpy as np\n",
    "import pandas as pd"
   ]
  },
  {
   "cell_type": "code",
   "execution_count": 6,
   "metadata": {},
   "outputs": [
    {
     "data": {
      "text/html": [
       "<div>\n",
       "<style scoped>\n",
       "    .dataframe tbody tr th:only-of-type {\n",
       "        vertical-align: middle;\n",
       "    }\n",
       "\n",
       "    .dataframe tbody tr th {\n",
       "        vertical-align: top;\n",
       "    }\n",
       "\n",
       "    .dataframe thead th {\n",
       "        text-align: right;\n",
       "    }\n",
       "</style>\n",
       "<table border=\"1\" class=\"dataframe\">\n",
       "  <thead>\n",
       "    <tr style=\"text-align: right;\">\n",
       "      <th></th>\n",
       "      <th>time</th>\n",
       "      <th>signal</th>\n",
       "    </tr>\n",
       "  </thead>\n",
       "  <tbody>\n",
       "    <tr>\n",
       "      <th>0</th>\n",
       "      <td>1</td>\n",
       "      <td>2</td>\n",
       "    </tr>\n",
       "    <tr>\n",
       "      <th>1</th>\n",
       "      <td>2</td>\n",
       "      <td>3</td>\n",
       "    </tr>\n",
       "    <tr>\n",
       "      <th>2</th>\n",
       "      <td>4</td>\n",
       "      <td>5</td>\n",
       "    </tr>\n",
       "    <tr>\n",
       "      <th>3</th>\n",
       "      <td>5</td>\n",
       "      <td>10</td>\n",
       "    </tr>\n",
       "  </tbody>\n",
       "</table>\n",
       "</div>"
      ],
      "text/plain": [
       "   time  signal\n",
       "0     1       2\n",
       "1     2       3\n",
       "2     4       5\n",
       "3     5      10"
      ]
     },
     "execution_count": 6,
     "metadata": {},
     "output_type": "execute_result"
    }
   ],
   "source": [
    "data = pd.read_csv('data.csv',names=['time','signal'])\n",
    "data"
   ]
  },
  {
   "cell_type": "code",
   "execution_count": 7,
   "metadata": {},
   "outputs": [
    {
     "data": {
      "text/plain": [
       "0    1\n",
       "1    2\n",
       "2    4\n",
       "3    5\n",
       "Name: time, dtype: int64"
      ]
     },
     "execution_count": 7,
     "metadata": {},
     "output_type": "execute_result"
    }
   ],
   "source": [
    "data['time']"
   ]
  },
  {
   "cell_type": "code",
   "execution_count": 8,
   "metadata": {},
   "outputs": [
    {
     "data": {
      "text/plain": [
       "array([[ 1.,  2.],\n",
       "       [ 2.,  3.],\n",
       "       [ 4.,  5.],\n",
       "       [ 5., 10.]])"
      ]
     },
     "execution_count": 8,
     "metadata": {},
     "output_type": "execute_result"
    }
   ],
   "source": [
    "npdata = np.loadtxt('data.csv',delimiter=',')\n",
    "npdata"
   ]
  },
  {
   "cell_type": "code",
   "execution_count": 9,
   "metadata": {},
   "outputs": [
    {
     "data": {
      "text/plain": [
       "array([ 3.,  5., 10.])"
      ]
     },
     "execution_count": 9,
     "metadata": {},
     "output_type": "execute_result"
    }
   ],
   "source": [
    "npdata[1:,1]"
   ]
  },
  {
   "cell_type": "code",
   "execution_count": 10,
   "metadata": {},
   "outputs": [
    {
     "data": {
      "text/plain": [
       "array([1., 2.])"
      ]
     },
     "execution_count": 10,
     "metadata": {},
     "output_type": "execute_result"
    }
   ],
   "source": [
    "npdata[0,:]"
   ]
  },
  {
   "cell_type": "code",
   "execution_count": 11,
   "metadata": {},
   "outputs": [
    {
     "data": {
      "text/plain": [
       "numpy.ndarray"
      ]
     },
     "execution_count": 11,
     "metadata": {},
     "output_type": "execute_result"
    }
   ],
   "source": [
    "type(data['time'].values)"
   ]
  },
  {
   "cell_type": "code",
   "execution_count": 12,
   "metadata": {},
   "outputs": [
    {
     "data": {
      "text/plain": [
       "numpy.ndarray"
      ]
     },
     "execution_count": 12,
     "metadata": {},
     "output_type": "execute_result"
    }
   ],
   "source": [
    "type(npdata)"
   ]
  },
  {
   "cell_type": "code",
   "execution_count": 13,
   "metadata": {},
   "outputs": [
    {
     "data": {
      "text/plain": [
       "pandas.core.frame.DataFrame"
      ]
     },
     "execution_count": 13,
     "metadata": {},
     "output_type": "execute_result"
    }
   ],
   "source": [
    "type(data)"
   ]
  },
  {
   "cell_type": "markdown",
   "metadata": {},
   "source": [
    "# Save data"
   ]
  },
  {
   "cell_type": "code",
   "execution_count": 14,
   "metadata": {},
   "outputs": [],
   "source": [
    "data.to_csv('./out/exmaple.csv')"
   ]
  },
  {
   "cell_type": "markdown",
   "metadata": {},
   "source": [
    "# Plot the data"
   ]
  },
  {
   "cell_type": "code",
   "execution_count": 15,
   "metadata": {},
   "outputs": [],
   "source": [
    "# Setup font for matplotlib plots\n",
    "font = {'family' : 'serif',\n",
    "        'weight' : 'normal',\n",
    "        'size'   : 22}\n",
    "\n",
    "matplotlib.rc('font', **font)"
   ]
  },
  {
   "cell_type": "code",
   "execution_count": 16,
   "metadata": {},
   "outputs": [
    {
     "data": {
      "image/png": "[encoded data removed]",
      "text/plain": [
       "<Figure size 720x432 with 1 Axes>"
      ]
     },
     "metadata": {
      "needs_background": "light"
     },
     "output_type": "display_data"
    }
   ],
   "source": [
    "gcf().set_size_inches([10,6]) # get current figure\n",
    "plot(data['time'],data['signal'],'ko-',label='data')\n",
    "legend()\n",
    "xlabel('time')\n",
    "ylabel(r'value $\\theta$')\n",
    "grid()"
   ]
  },
  {
   "cell_type": "markdown",
   "metadata": {},
   "source": [
    "# How to use `%run`"
   ]
  },
  {
   "cell_type": "code",
   "execution_count": 17,
   "metadata": {},
   "outputs": [
    {
     "data": {
      "text/plain": [
       "<Figure size 432x288 with 0 Axes>"
      ]
     },
     "metadata": {},
     "output_type": "display_data"
    }
   ],
   "source": [
    "%run test.py"
   ]
  },
  {
   "cell_type": "code",
   "execution_count": 18,
   "metadata": {},
   "outputs": [
    {
     "data": {
      "image/png": "[encoded data removed]",
      "text/plain": [
       "<Figure size 432x288 with 1 Axes>"
      ]
     },
     "metadata": {
      "needs_background": "light"
     },
     "output_type": "display_data"
    }
   ],
   "source": [
    "testplot()\n",
    "savefig('./figures/exampleplot.png', dpi=200, bbox_inches='tight')"
   ]
  },
  {
   "cell_type": "markdown",
   "metadata": {},
   "source": [
    "# A little about strings"
   ]
  },
  {
   "cell_type": "code",
   "execution_count": 19,
   "metadata": {},
   "outputs": [
    {
     "name": "stdout",
     "output_type": "stream",
     "text": [
      "a\\tb\n",
      "a\tb\n",
      "x=10, it is good a time for strings!\n",
      "2^10 = 1024\n"
     ]
    }
   ],
   "source": [
    "# Difference between '' and r''\n",
    "print(r'a\\tb') # r before string - raw string, as it is\n",
    "print('a\\tb')\n",
    "# From Python 3.6 we can use f-strings:\n",
    "x = 10\n",
    "b = 'time'\n",
    "print(f'x={x}, it is good a {b} for strings!')\n",
    "print(f'2^10 = {2**10}')\n",
    "# f-strings are easy to read, and they are faster (if that matters)"
   ]
  },
  {
   "cell_type": "markdown",
   "metadata": {},
   "source": [
    "f-strings are amazing, check them out:\n",
    "[On f-strings in python](https://realpython.com/python-f-strings/)."
   ]
  },
  {
   "cell_type": "markdown",
   "metadata": {},
   "source": [
    "# How to organize your data\n",
    "\n",
    "- Its good to have every code you need in one project folder\n",
    "- You don't have to have your data right in your project folder\n",
    "- Use a pth to your data folder to load your data\n",
    "- Keep your data organized in your datafolder"
   ]
  },
  {
   "cell_type": "markdown",
   "metadata": {},
   "source": [
    "## Data Folder structure example\n",
    "It is a good idea to add a Readme.md to the datafolder to show the structure and to comment on the contents.\n",
    "\n",
    "```\n",
    "datafolder\n",
    "│   README.md\n",
    "│   \n",
    "│\n",
    "└───Spectrometer1\n",
    "│   │   20200101_experiment1.csv\n",
    "│   │   20200101_experiment2.csv\n",
    "│   │   20190817_experiment2.csv\n",
    "│   │\n",
    "│   └───subfolder1 (say, for calibrations)\n",
    "│       │   file111.txt\n",
    "│       │   file112.txt\n",
    "│       │   ...\n",
    "│   \n",
    "└───Dataloger\n",
    "    │   file021.txt\n",
    "    │   file022.txt\n",
    "```"
   ]
  },
  {
   "cell_type": "markdown",
   "metadata": {},
   "source": [
    "## Project folder structure\n",
    "Organize!\n",
    "- make separate folder for figures\n",
    "- If you want to make some data output, put it in separate folder.\n",
    "- One notebook for one topic \n",
    "\n",
    "```\n",
    "project\n",
    "│   README.md\n",
    "│   .gitignore (if using git)\n",
    "│   coronal_model.ipynb\n",
    "│   fulcher-spectra-browser.ipynb\n",
    "│   useful_programs.py\n",
    "│   mypath.txt (list of data directories, for instance. put this file in .gitignore)\n",
    "│\n",
    "└───figures\n",
    "│   │   20200101_experiment1-molecular-spectra.png\n",
    "│   │   emission-diagram.png\n",
    "│   │   ...\n",
    "│   │\n",
    "│   └───calibrations\n",
    "│       │   calibration1.png\n",
    "│       │   calibration2.png\n",
    "│       │   ...\n",
    "│   \n",
    "└───out\n",
    "│   │   experimnt1_analyzed_data1.txt\n",
    "│   │   experimnt1_analyzed_data2.txt\n",
    "│\n",
    "│\n",
    "└───CoronaModel\n",
    "│    │   program1.py\n",
    "│    │   program2.py\n",
    "│\n",
    "└───Diffusion\n",
    "│    │   diffusion1.py\n",
    "│    │   rawdatacalibration.py\n",
    "```"
   ]
  },
  {
   "cell_type": "markdown",
   "metadata": {},
   "source": [
    "## Use Git\n",
    "\n",
    "Git is a version control systme. It is easy to use in [VS Code](https://code.visualstudio.com/)."
   ]
  }
 ],
 "metadata": {
  "kernelspec": {
   "display_name": "Python 3",
   "language": "python",
   "name": "python3"
  },
  "language_info": {
   "codemirror_mode": {
    "name": "ipython",
    "version": 3
   },
   "file_extension": ".py",
   "mimetype": "text/x-python",
   "name": "python",
   "nbconvert_exporter": "python",
   "pygments_lexer": "ipython3",
   "version": "3.7.2"
  },
  "toc-autonumbering": true,
  "toc-showmarkdowntxt": false
 },
 "nbformat": 4,
 "nbformat_minor": 4
}
